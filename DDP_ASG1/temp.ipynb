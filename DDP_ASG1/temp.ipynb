{
 "cells": [
  {
   "cell_type": "markdown",
   "metadata": {},
   "source": [
    "<table class=\"table table-bordered\">\n",
    "    <tr>\n",
    "        <th style=\"width:250px\"><img src='https://www.np.edu.sg/images/default-source/default-album/img-logo.png?sfvrsn=764583a6_0' style=\"width: 100%; height: 125px; \"></th>\n",
    "        <th style=\"text-align:center;\"><h1>Distributed Data Pipelines</h1><h2>Assignment 1 </h2><h3>Diploma in Data Science</h3></th>\n",
    "    </tr>\n",
    "</table>"
   ]
  },
  {
   "cell_type": "markdown",
   "metadata": {},
   "source": [
    "Learning Objectives:\n",
    "- Design PySpark Based Machine Learning\n",
    "- Execute PySpark Syntax Correctly\n",
    "- Evaluate and Select Final Model based on Metrics"
   ]
  },
  {
   "cell_type": "markdown",
   "metadata": {},
   "source": [
    "You will be **graded on the use of PySpark**, so usage of **Pandas itself should be avoided as much as possible**, especially if a particular native method or function is already available in PySpark. **Penalties will be imposed in such cases.**"
   ]
  },
  {
   "cell_type": "code",
   "execution_count": 1,
   "metadata": {},
   "outputs": [],
   "source": [
    "# import the packages\n",
    "import pyspark.sql.functions as f\n",
    "from pyspark.sql import SparkSession\n",
    "spark=SparkSession.builder.appName('ASG1').getOrCreate()"
   ]
  },
  {
   "cell_type": "markdown",
   "metadata": {},
   "source": [
    "### Step 1: Problem Statement Formulation"
   ]
  },
  {
   "cell_type": "code",
   "execution_count": 2,
   "metadata": {},
   "outputs": [],
   "source": [
    "# load and explore data\n",
    "df=spark.read.csv('./data/sg_flat_prices_mod.csv', header=True, inferSchema=True) # inferSchema auto detects data type"
   ]
  },
  {
   "cell_type": "code",
   "execution_count": 3,
   "metadata": {
    "scrolled": true
   },
   "outputs": [
    {
     "name": "stdout",
     "output_type": "stream",
     "text": [
      "+----+-----+----------+---------+-----+-----------------+------------+--------------+--------------+-------------------+---------------+------------+\n",
      "|year|month|      town|flat_type|block|      street_name|storey_range|floor_area_sqm|    flat_model|lease_commence_date|remaining_lease|resale_price|\n",
      "+----+-----+----------+---------+-----+-----------------+------------+--------------+--------------+-------------------+---------------+------------+\n",
      "|2017|    1|ANG MO KIO|   2 ROOM|  406|ANG MO KIO AVE 10|    10 TO 12|          44.0|      Improved|               1979|            736|    232000.0|\n",
      "|2017|    1|ANG MO KIO|   3 ROOM|  108| ANG MO KIO AVE 4|    01 TO 03|          67.0|New Generation|               1978|            727|    250000.0|\n",
      "|2017|    1|ANG MO KIO|   3 ROOM|  602| ANG MO KIO AVE 5|    01 TO 03|          67.0|New Generation|               1980|            749|    262000.0|\n",
      "|2017|    1|ANG MO KIO|   3 ROOM|  465|ANG MO KIO AVE 10|    04 TO 06|          68.0|New Generation|               1980|            745|    265000.0|\n",
      "|2017|    1|ANG MO KIO|   3 ROOM|  601| ANG MO KIO AVE 5|    01 TO 03|          67.0|New Generation|               1980|            749|    265000.0|\n",
      "|2017|    1|ANG MO KIO|   3 ROOM|  150| ANG MO KIO AVE 5|    01 TO 03|          68.0|New Generation|               1981|            756|    275000.0|\n",
      "|2017|    1|ANG MO KIO|   3 ROOM|  447|ANG MO KIO AVE 10|    04 TO 06|          68.0|New Generation|               1979|            738|    280000.0|\n",
      "|2017|    1|ANG MO KIO|   3 ROOM|  218| ANG MO KIO AVE 1|    04 TO 06|          67.0|New Generation|               1976|            700|    285000.0|\n",
      "|2017|    1|ANG MO KIO|   3 ROOM|  447|ANG MO KIO AVE 10|    04 TO 06|          68.0|New Generation|               1979|            738|    285000.0|\n",
      "|2017|    1|ANG MO KIO|   3 ROOM|  571| ANG MO KIO AVE 3|    01 TO 03|          67.0|New Generation|               1979|            736|    285000.0|\n",
      "|2017|    1|ANG MO KIO|   3 ROOM|  534|ANG MO KIO AVE 10|    01 TO 03|          68.0|New Generation|               1980|            745|    288500.0|\n",
      "|2017|    1|ANG MO KIO|   3 ROOM|  233| ANG MO KIO AVE 3|    10 TO 12|          67.0|New Generation|               1977|            716|    295000.0|\n",
      "|2017|    1|ANG MO KIO|   3 ROOM|  235| ANG MO KIO AVE 3|    04 TO 06|          67.0|New Generation|               1977|            716|    295000.0|\n",
      "|2017|    1|ANG MO KIO|   3 ROOM|  219| ANG MO KIO AVE 1|    07 TO 09|          67.0|New Generation|               1977|            714|    297000.0|\n",
      "|2017|    1|ANG MO KIO|   3 ROOM|  536|ANG MO KIO AVE 10|    07 TO 09|          68.0|New Generation|               1980|            745|    298000.0|\n",
      "|2017|    1|ANG MO KIO|   3 ROOM|  230| ANG MO KIO AVE 3|    04 TO 06|          67.0|New Generation|               1978|            720|    298000.0|\n",
      "|2017|    1|ANG MO KIO|   3 ROOM|  570| ANG MO KIO AVE 3|    10 TO 12|          67.0|New Generation|               1979|            736|    300000.0|\n",
      "|2017|    1|ANG MO KIO|   3 ROOM|  624| ANG MO KIO AVE 4|    04 TO 06|          68.0|New Generation|               1980|            752|    301000.0|\n",
      "|2017|    1|ANG MO KIO|   3 ROOM|  441|ANG MO KIO AVE 10|    07 TO 09|          67.0|New Generation|               1979|            732|    306000.0|\n",
      "|2017|    1|ANG MO KIO|   3 ROOM|  625| ANG MO KIO AVE 9|    04 TO 06|          68.0|New Generation|               1980|            752|    312000.0|\n",
      "+----+-----+----------+---------+-----+-----------------+------------+--------------+--------------+-------------------+---------------+------------+\n",
      "only showing top 20 rows\n",
      "\n"
     ]
    }
   ],
   "source": [
    "df.show()"
   ]
  },
  {
   "cell_type": "code",
   "execution_count": 4,
   "metadata": {},
   "outputs": [],
   "source": [
    "# value based problem statement"
   ]
  },
  {
   "cell_type": "code",
   "execution_count": 5,
   "metadata": {},
   "outputs": [],
   "source": [
    "# Build a simple machine learning model to predict the resale prices of any given HDB\n",
    "# resale transaction."
   ]
  },
  {
   "cell_type": "code",
   "execution_count": null,
   "metadata": {},
   "outputs": [],
   "source": []
  },
  {
   "cell_type": "code",
   "execution_count": null,
   "metadata": {},
   "outputs": [],
   "source": []
  },
  {
   "cell_type": "markdown",
   "metadata": {},
   "source": [
    "### Step 2: Exploratory Data Analysis and Data Cleansing"
   ]
  },
  {
   "cell_type": "code",
   "execution_count": 6,
   "metadata": {},
   "outputs": [],
   "source": [
    "# consider NaN Treatment"
   ]
  },
  {
   "cell_type": "code",
   "execution_count": 7,
   "metadata": {},
   "outputs": [
    {
     "name": "stdout",
     "output_type": "stream",
     "text": [
      "['year', 'month', 'floor_area_sqm', 'lease_commence_date', 'remaining_lease', 'resale_price']\n"
     ]
    }
   ],
   "source": [
    "# Get a list of the data types for each column\n",
    "col_types = df.dtypes\n",
    "\n",
    "# Filter the list to only include numerical data types\n",
    "num_cols = [col[0] for col in col_types if col[1] in (\"int\", \"double\")]\n",
    "\n",
    "# Print the list of numeric columns\n",
    "print(num_cols)"
   ]
  },
  {
   "cell_type": "code",
   "execution_count": 8,
   "metadata": {},
   "outputs": [
    {
     "name": "stdout",
     "output_type": "stream",
     "text": [
      "['town', 'flat_type', 'block', 'street_name', 'storey_range', 'flat_model']\n"
     ]
    }
   ],
   "source": [
    "# Filter the list to only include string data types\n",
    "cat_cols = [col[0] for col in col_types if col[1] == \"string\"]\n",
    "\n",
    "# Print the list of categorical columns\n",
    "print(cat_cols)"
   ]
  },
  {
   "cell_type": "code",
   "execution_count": 9,
   "metadata": {},
   "outputs": [
    {
     "name": "stdout",
     "output_type": "stream",
     "text": [
      "+-------+------------------+------------------+-----------------+-------------------+------------------+------------------+\n",
      "|summary|              year|             month|   floor_area_sqm|lease_commence_date|   remaining_lease|      resale_price|\n",
      "+-------+------------------+------------------+-----------------+-------------------+------------------+------------------+\n",
      "|  count|             64247|             64247|            64197|              64247|             64247|             64247|\n",
      "|   mean|2018.0262424704656| 6.779133656046197|97.77009984890256| 1993.6012420813422| 894.6413840334957|438943.70469516085|\n",
      "| stddev|0.8146939469668695|3.2635673352950514|24.26994610142912| 12.465629502278013|149.62669792791093|153760.65294972394|\n",
      "|    min|              2017|                 1|             31.0|               1966|               553|          150000.0|\n",
      "|    max|              2019|                12|            249.0|               2016|              1160|         1205000.0|\n",
      "+-------+------------------+------------------+-----------------+-------------------+------------------+------------------+\n",
      "\n"
     ]
    }
   ],
   "source": [
    "# selected varables for the demonstration\n",
    "df.select(num_cols).describe().show()"
   ]
  },
  {
   "cell_type": "code",
   "execution_count": 10,
   "metadata": {},
   "outputs": [
    {
     "data": {
      "text/plain": [
       "64247"
      ]
     },
     "execution_count": 10,
     "metadata": {},
     "output_type": "execute_result"
    }
   ],
   "source": [
    "df.select(df.columns).distinct() and df.select(df.columns).count()"
   ]
  },
  {
   "cell_type": "code",
   "execution_count": 11,
   "metadata": {},
   "outputs": [
    {
     "data": {
      "text/plain": [
       "64247"
      ]
     },
     "execution_count": 11,
     "metadata": {},
     "output_type": "execute_result"
    }
   ],
   "source": [
    "df.count()"
   ]
  },
  {
   "cell_type": "code",
   "execution_count": 12,
   "metadata": {},
   "outputs": [
    {
     "name": "stdout",
     "output_type": "stream",
     "text": [
      "+----+-----+----+---------+-----+-----------+------------+--------------+----------+-------------------+---------------+------------+\n",
      "|year|month|town|flat_type|block|street_name|storey_range|floor_area_sqm|flat_model|lease_commence_date|remaining_lease|resale_price|\n",
      "+----+-----+----+---------+-----+-----------+------------+--------------+----------+-------------------+---------------+------------+\n",
      "|   0|    0|   0|        0|    0|          0|           0|            50|         0|                  0|              0|           0|\n",
      "+----+-----+----+---------+-----+-----------+------------+--------------+----------+-------------------+---------------+------------+\n",
      "\n"
     ]
    }
   ],
   "source": [
    "# how to show null count\n",
    "from pyspark.sql.functions import col, isnan, when, count\n",
    "df.select([count(when(isnan(c) | col(c).isNull(), c)).alias(c) for c in df.columns]).show()"
   ]
  },
  {
   "cell_type": "code",
   "execution_count": 13,
   "metadata": {},
   "outputs": [],
   "source": [
    "grouped_data = df.groupBy(\"flat_type\")\n",
    "mean_floor_area_sqms = grouped_data.mean(\"floor_area_sqm\")"
   ]
  },
  {
   "cell_type": "code",
   "execution_count": 14,
   "metadata": {},
   "outputs": [],
   "source": [
    "df = df.join(mean_floor_area_sqms, on=\"flat_type\", how=\"left\")\n",
    "from pyspark.sql.functions import when\n",
    "df = df.withColumn(\"floor_area_sqm\", when(df[\"floor_area_sqm\"].isNull(), df[\"avg(floor_area_sqm)\"]).otherwise(df[\"floor_area_sqm\"]))"
   ]
  },
  {
   "cell_type": "code",
   "execution_count": 15,
   "metadata": {},
   "outputs": [
    {
     "name": "stdout",
     "output_type": "stream",
     "text": [
      "+---------+----+-----+----+-----+-----------+------------+--------------+----------+-------------------+---------------+------------+-------------------+\n",
      "|flat_type|year|month|town|block|street_name|storey_range|floor_area_sqm|flat_model|lease_commence_date|remaining_lease|resale_price|avg(floor_area_sqm)|\n",
      "+---------+----+-----+----+-----+-----------+------------+--------------+----------+-------------------+---------------+------------+-------------------+\n",
      "|        0|   0|    0|   0|    0|          0|           0|             0|         0|                  0|              0|           0|                  0|\n",
      "+---------+----+-----+----+-----+-----------+------------+--------------+----------+-------------------+---------------+------------+-------------------+\n",
      "\n"
     ]
    }
   ],
   "source": [
    "#Check for null values again\n",
    "df.select([count(when(isnan(c) | col(c).isNull(), c)).alias(c) for c in df.columns]).show()"
   ]
  },
  {
   "cell_type": "code",
   "execution_count": 16,
   "metadata": {},
   "outputs": [
    {
     "name": "stdout",
     "output_type": "stream",
     "text": [
      "+----------------+-----+\n",
      "|       flat_type|count|\n",
      "+----------------+-----+\n",
      "|          3 ROOM|15589|\n",
      "|          1 ROOM|   29|\n",
      "|          4 ROOM|26592|\n",
      "|          2 ROOM|  919|\n",
      "|       EXECUTIVE| 5169|\n",
      "|          5 ROOM|15916|\n",
      "|MULTI-GENERATION|   33|\n",
      "+----------------+-----+\n",
      "\n"
     ]
    }
   ],
   "source": [
    "df.groupBy('flat_type').count().show()"
   ]
  },
  {
   "cell_type": "code",
   "execution_count": 17,
   "metadata": {},
   "outputs": [],
   "source": [
    "# df = df.drop(df[\"flat_type\"].isin([\"1 ROOM\", \"MULTI-GENERATION\"]))\n",
    "# Remove rows where the \"flat_type\" column is \"1 ROOM\" or \"MULTI-GENERATION\"\n",
    "df = df.filter(~df[\"flat_type\"].isin([\"1 ROOM\", \"MULTI-GENERATION\"]))\n"
   ]
  },
  {
   "cell_type": "code",
   "execution_count": 18,
   "metadata": {},
   "outputs": [
    {
     "name": "stdout",
     "output_type": "stream",
     "text": [
      "+---------+-----+\n",
      "|flat_type|count|\n",
      "+---------+-----+\n",
      "|   3 ROOM|15589|\n",
      "|   4 ROOM|26592|\n",
      "|   2 ROOM|  919|\n",
      "|EXECUTIVE| 5169|\n",
      "|   5 ROOM|15916|\n",
      "+---------+-----+\n",
      "\n"
     ]
    }
   ],
   "source": [
    "df.groupBy('flat_type').count().show()"
   ]
  },
  {
   "cell_type": "code",
   "execution_count": 19,
   "metadata": {},
   "outputs": [
    {
     "name": "stdout",
     "output_type": "stream",
     "text": [
      "+----------------------+-----+\n",
      "|flat_model            |count|\n",
      "+----------------------+-----+\n",
      "|Apartment             |2627 |\n",
      "|Premium Maisonette    |7    |\n",
      "|Improved              |16042|\n",
      "|Type S2               |63   |\n",
      "|New Generation        |9068 |\n",
      "|Improved-Maisonette   |13   |\n",
      "|Model A-Maisonette    |110  |\n",
      "|Maisonette            |1909 |\n",
      "|Model A               |20743|\n",
      "|DBSS                  |936  |\n",
      "|Simplified            |2754 |\n",
      "|Terrace               |38   |\n",
      "|Adjoined flat         |119  |\n",
      "|Type S1               |117  |\n",
      "|Standard              |1802 |\n",
      "|Premium Apartment     |6945 |\n",
      "|Model A2              |885  |\n",
      "|Premium Apartment Loft|7    |\n",
      "+----------------------+-----+\n",
      "\n"
     ]
    }
   ],
   "source": [
    "df.groupBy('flat_model').count().show(truncate = False)"
   ]
  },
  {
   "cell_type": "code",
   "execution_count": 20,
   "metadata": {},
   "outputs": [
    {
     "name": "stdout",
     "output_type": "stream",
     "text": [
      "+---------------+-----+\n",
      "|town           |count|\n",
      "+---------------+-----+\n",
      "|QUEENSTOWN     |1708 |\n",
      "|BEDOK          |3429 |\n",
      "|CLEMENTI       |1403 |\n",
      "|SERANGOON      |1327 |\n",
      "|BUKIT PANJANG  |2384 |\n",
      "|BUKIT TIMAH    |189  |\n",
      "|YISHUN         |4314 |\n",
      "|GEYLANG        |1554 |\n",
      "|WOODLANDS      |4988 |\n",
      "|BUKIT MERAH    |2549 |\n",
      "|TOA PAYOH      |2184 |\n",
      "|BISHAN         |1263 |\n",
      "|PUNGGOL        |4013 |\n",
      "|HOUGANG        |2982 |\n",
      "|ANG MO KIO     |2917 |\n",
      "|PASIR RIS      |1836 |\n",
      "|SENGKANG       |4970 |\n",
      "|KALLANG/WHAMPOA|1916 |\n",
      "|BUKIT BATOK    |2451 |\n",
      "|TAMPINES       |4071 |\n",
      "|JURONG WEST    |4945 |\n",
      "|JURONG EAST    |1446 |\n",
      "|MARINE PARADE  |387  |\n",
      "|CENTRAL AREA   |545  |\n",
      "|SEMBAWANG      |1754 |\n",
      "|CHOA CHU KANG  |2660 |\n",
      "+---------------+-----+\n",
      "\n"
     ]
    }
   ],
   "source": [
    "df.groupBy('town').count().show(50, truncate = False)"
   ]
  },
  {
   "cell_type": "code",
   "execution_count": 21,
   "metadata": {},
   "outputs": [
    {
     "name": "stdout",
     "output_type": "stream",
     "text": [
      "Number of resale prices above 1 million: 154\n"
     ]
    }
   ],
   "source": [
    "\n",
    "\n",
    "# filter the DataFrame to include only resale prices above 1 million\n",
    "count_over1m = df.filter(df[\"resale_price\"] > 1000000)\n",
    "\n",
    "# count the number of rows in the filtered DataFrame\n",
    "count_over1m = count_over1m.count()\n",
    "\n",
    "# print the result\n",
    "print(\"Number of resale prices above 1 million:\", count_over1m)\n"
   ]
  },
  {
   "cell_type": "code",
   "execution_count": 22,
   "metadata": {},
   "outputs": [
    {
     "name": "stdout",
     "output_type": "stream",
     "text": [
      "Number of outliers: 3800\n",
      "Outlier range: 80500.0 to 732500.0\n"
     ]
    }
   ],
   "source": [
    "\n",
    "\n",
    "# compute the approximate quantiles of the resale_price column\n",
    "quantiles = df.approxQuantile(\"resale_price\", [0.25, 0.75], 0.05)\n",
    "\n",
    "# define the lower and upper bounds of the expected range\n",
    "lower_bound = quantiles[0] - 1.5 * (quantiles[1] - quantiles[0])\n",
    "upper_bound = quantiles[1] + 1.5 * (quantiles[1] - quantiles[0])\n",
    "\n",
    "# filter the DataFrame to include only data points outside of the expected range\n",
    "outliers = df.filter((df[\"resale_price\"] < lower_bound) | (df[\"resale_price\"] > upper_bound))\n",
    "\n",
    "# print the number of outliers found\n",
    "print(\"Number of outliers:\", outliers.count())\n",
    "\n",
    "# print the range of values for potential outliers\n",
    "print(\"Outlier range:\", lower_bound, \"to\", upper_bound)\n"
   ]
  },
  {
   "cell_type": "code",
   "execution_count": 23,
   "metadata": {},
   "outputs": [
    {
     "name": "stdout",
     "output_type": "stream",
     "text": [
      "+---------------+------------------+\n",
      "|           town|      resale_price|\n",
      "+---------------+------------------+\n",
      "|    BUKIT TIMAH| 714816.9735449735|\n",
      "|         BISHAN| 643720.7957244655|\n",
      "|   CENTRAL AREA| 623428.0220183487|\n",
      "|    BUKIT MERAH| 568323.6060729699|\n",
      "|     QUEENSTOWN| 554835.8535597189|\n",
      "|  MARINE PARADE| 518115.9173126615|\n",
      "|KALLANG/WHAMPOA|496043.73121085594|\n",
      "|      TOA PAYOH| 494166.7532051282|\n",
      "|      PASIR RIS| 492123.0871459695|\n",
      "|      SERANGOON| 490769.0934438583|\n",
      "|       TAMPINES| 473382.8806190125|\n",
      "|       CLEMENTI| 469028.6115466857|\n",
      "|        PUNGGOL| 453269.6137253925|\n",
      "|       SENGKANG|433994.11826156947|\n",
      "|        GEYLANG|430605.67181467183|\n",
      "|        HOUGANG|429212.74610328645|\n",
      "|  BUKIT PANJANG|428196.38632550335|\n",
      "|    JURONG EAST| 416185.7745504841|\n",
      "|     ANG MO KIO| 411547.1964346932|\n",
      "|          BEDOK| 410944.0495771362|\n",
      "|    JURONG WEST| 387879.4531122346|\n",
      "|  CHOA CHU KANG|384960.08120300755|\n",
      "|      SEMBAWANG| 378804.1880729761|\n",
      "|    BUKIT BATOK| 377715.2757037944|\n",
      "|      WOODLANDS|376810.78428227745|\n",
      "|         YISHUN| 358228.2070004636|\n",
      "+---------------+------------------+\n",
      "\n"
     ]
    }
   ],
   "source": [
    "from pyspark.sql import functions as F\n",
    "\n",
    "# Group the data by town\n",
    "grouped_data = df.groupBy(\"town\")\n",
    "\n",
    "# Compute the average resale price for each town\n",
    "avg_resale_price = grouped_data.agg(F.mean(\"resale_price\").alias(\"resale_price\"))\n",
    "\n",
    "# Sort the resulting DataFrame by average resale price\n",
    "sorted_data = avg_resale_price.orderBy(\"resale_price\", ascending=False)\n",
    "\n",
    "# Show the results\n",
    "sorted_data.show(50)\n"
   ]
  },
  {
   "cell_type": "code",
   "execution_count": 24,
   "metadata": {
    "scrolled": true
   },
   "outputs": [
    {
     "name": "stdout",
     "output_type": "stream",
     "text": [
      "+---------------+---------+-----+\n",
      "|           town|flat_type|count|\n",
      "+---------------+---------+-----+\n",
      "|    BUKIT MERAH|   3 ROOM|  907|\n",
      "|    JURONG EAST|   5 ROOM|  360|\n",
      "|      SERANGOON|   3 ROOM|  283|\n",
      "|   CENTRAL AREA|   2 ROOM|   16|\n",
      "|          BEDOK|   3 ROOM| 1491|\n",
      "|     QUEENSTOWN|   3 ROOM|  791|\n",
      "|     ANG MO KIO|   4 ROOM|  777|\n",
      "|    JURONG WEST|   3 ROOM|  947|\n",
      "|  CHOA CHU KANG|   3 ROOM|  165|\n",
      "|       TAMPINES|EXECUTIVE|  464|\n",
      "|       SENGKANG|   3 ROOM|  330|\n",
      "|    BUKIT MERAH|   5 ROOM|  581|\n",
      "|KALLANG/WHAMPOA|EXECUTIVE|   42|\n",
      "|      PASIR RIS|   2 ROOM|    2|\n",
      "|        PUNGGOL|   3 ROOM|  295|\n",
      "|       TAMPINES|   4 ROOM| 1584|\n",
      "|        GEYLANG|   5 ROOM|  203|\n",
      "|    JURONG EAST|   4 ROOM|  422|\n",
      "|  CHOA CHU KANG|   4 ROOM| 1263|\n",
      "|      PASIR RIS|EXECUTIVE|  511|\n",
      "+---------------+---------+-----+\n",
      "only showing top 20 rows\n",
      "\n"
     ]
    }
   ],
   "source": [
    "from pyspark.sql import functions as F\n",
    "from pyspark.sql import Window\n",
    "\n",
    "# Define a window for the data, partitioned by town\n",
    "window = Window.partitionBy(\"town\")\n",
    "\n",
    "# Group the data by town and model type\n",
    "grouped_data = df.groupBy(\"town\", \"flat_type\")\n",
    "\n",
    "# Count the number of rows in each group\n",
    "counts = grouped_data.agg(F.count(\"*\").alias(\"count\"))\n",
    "\n",
    "counts.show()"
   ]
  },
  {
   "cell_type": "code",
   "execution_count": 25,
   "metadata": {},
   "outputs": [
    {
     "name": "stdout",
     "output_type": "stream",
     "text": [
      "+------------+------------------+\n",
      "|storey_range|      resale_price|\n",
      "+------------+------------------+\n",
      "|    43 TO 45|1037833.3333333334|\n",
      "|    49 TO 51|1022814.6666666666|\n",
      "|    46 TO 48|1018845.4545454546|\n",
      "|    40 TO 42|       894045.9375|\n",
      "|    37 TO 39| 845602.7674418605|\n",
      "|    34 TO 36| 802757.8962962963|\n",
      "|    31 TO 33| 800630.9291338583|\n",
      "|    28 TO 30| 751391.7605177993|\n",
      "|    25 TO 27| 666919.1401295896|\n",
      "|    22 TO 24| 610122.5498092031|\n",
      "|    19 TO 21| 591394.6781223805|\n",
      "|    16 TO 18|514570.93940520444|\n",
      "|    13 TO 15|472987.87508488825|\n",
      "|    10 TO 12|438019.12078618666|\n",
      "|    07 TO 09| 423331.7550947538|\n",
      "|    04 TO 06| 411894.9576388235|\n",
      "|    01 TO 03| 394287.5250354052|\n",
      "+------------+------------------+\n",
      "\n"
     ]
    }
   ],
   "source": [
    "from pyspark.sql import functions as F\n",
    "\n",
    "# Group the data by town\n",
    "grouped_data = df.groupBy(\"storey_range\")\n",
    "\n",
    "# Compute the average resale price for each town\n",
    "avg_resale_price = grouped_data.agg(F.mean(\"resale_price\").alias(\"resale_price\"))\n",
    "\n",
    "# Sort the resulting DataFrame by average resale price\n",
    "sorted_data = avg_resale_price.orderBy(\"resale_price\", ascending=False)\n",
    "\n",
    "# Show the results\n",
    "sorted_data.show(50)\n"
   ]
  },
  {
   "cell_type": "markdown",
   "metadata": {},
   "source": [
    "### Step 3: Data Wrangling and Transformation"
   ]
  },
  {
   "cell_type": "code",
   "execution_count": 26,
   "metadata": {},
   "outputs": [],
   "source": [
    "# consider categorical and numerical variable treatment and transformations"
   ]
  },
  {
   "cell_type": "code",
   "execution_count": 27,
   "metadata": {},
   "outputs": [
    {
     "name": "stdout",
     "output_type": "stream",
     "text": [
      "+---------+----+-----+----------+-----+-----------------+------------+--------------+--------------+-------------------+---------------+------------+-------------------+-------------------+------------------------+--------------------+--------------------------+---------------------------+-------------------------+--------------+-----------------+------------------+-------------------+--------------------+------------------+\n",
      "|flat_type|year|month|      town|block|      street_name|storey_range|floor_area_sqm|    flat_model|lease_commence_date|remaining_lease|resale_price|avg(floor_area_sqm)|town_string_encoded|flat_type_string_encoded|block_string_encoded|street_name_string_encoded|storey_range_string_encoded|flat_model_string_encoded|  town_one_hot|flat_type_one_hot|     block_one_hot|street_name_one_hot|storey_range_one_hot|flat_model_one_hot|\n",
      "+---------+----+-----+----------+-----+-----------------+------------+--------------+--------------+-------------------+---------------+------------+-------------------+-------------------+------------------------+--------------------+--------------------------+---------------------------+-------------------------+--------------+-----------------+------------------+-------------------+--------------------+------------------+\n",
      "|   2 ROOM|2017|    1|ANG MO KIO|  406|ANG MO KIO AVE 10|    10 TO 12|          44.0|      Improved|               1979|            736|    232000.0| 45.869423286180634|                8.0|                     4.0|               104.0|                       4.0|                        2.0|                      1.0|(25,[8],[1.0])|        (4,[],[])|(2386,[104],[1.0])|    (540,[4],[1.0])|      (16,[2],[1.0])|    (17,[1],[1.0])|\n",
      "|   3 ROOM|2017|    1|ANG MO KIO|  108| ANG MO KIO AVE 4|    01 TO 03|          67.0|New Generation|               1978|            727|    250000.0|  68.29045480787735|                8.0|                     2.0|                22.0|                      20.0|                        3.0|                      2.0|(25,[8],[1.0])|    (4,[2],[1.0])| (2386,[22],[1.0])|   (540,[20],[1.0])|      (16,[3],[1.0])|    (17,[2],[1.0])|\n",
      "|   3 ROOM|2017|    1|ANG MO KIO|  602| ANG MO KIO AVE 5|    01 TO 03|          67.0|New Generation|               1980|            749|    262000.0|  68.29045480787735|                8.0|                     2.0|               132.0|                      31.0|                        3.0|                      2.0|(25,[8],[1.0])|    (4,[2],[1.0])|(2386,[132],[1.0])|   (540,[31],[1.0])|      (16,[3],[1.0])|    (17,[2],[1.0])|\n",
      "|   3 ROOM|2017|    1|ANG MO KIO|  465|ANG MO KIO AVE 10|    04 TO 06|          68.0|New Generation|               1980|            745|    265000.0|  68.29045480787735|                8.0|                     2.0|               398.0|                       4.0|                        0.0|                      2.0|(25,[8],[1.0])|    (4,[2],[1.0])|(2386,[398],[1.0])|    (540,[4],[1.0])|      (16,[0],[1.0])|    (17,[2],[1.0])|\n",
      "|   3 ROOM|2017|    1|ANG MO KIO|  601| ANG MO KIO AVE 5|    01 TO 03|          67.0|New Generation|               1980|            749|    265000.0|  68.29045480787735|                8.0|                     2.0|               300.0|                      31.0|                        3.0|                      2.0|(25,[8],[1.0])|    (4,[2],[1.0])|(2386,[300],[1.0])|   (540,[31],[1.0])|      (16,[3],[1.0])|    (17,[2],[1.0])|\n",
      "+---------+----+-----+----------+-----+-----------------+------------+--------------+--------------+-------------------+---------------+------------+-------------------+-------------------+------------------------+--------------------+--------------------------+---------------------------+-------------------------+--------------+-----------------+------------------+-------------------+--------------------+------------------+\n",
      "only showing top 5 rows\n",
      "\n"
     ]
    }
   ],
   "source": [
    "from pyspark.ml import Pipeline\n",
    "from pyspark.ml.feature import OneHotEncoder, StringIndexer\n",
    "\n",
    "\n",
    "stage_string = [StringIndexer(inputCol= c, outputCol= c+\"_string_encoded\") for c in cat_cols]\n",
    "stage_one_hot = [OneHotEncoder(inputCol= c+\"_string_encoded\", outputCol= c+ \"_one_hot\") for c in cat_cols]\n",
    "\n",
    "ppl = Pipeline(stages= stage_string + stage_one_hot)\n",
    "df = ppl.fit(df).transform(df)\n",
    "df.show(5)\n",
    "\n"
   ]
  },
  {
   "cell_type": "code",
   "execution_count": 28,
   "metadata": {},
   "outputs": [
    {
     "data": {
      "text/plain": [
       "[('flat_type', 'string'),\n",
       " ('year', 'int'),\n",
       " ('month', 'int'),\n",
       " ('town', 'string'),\n",
       " ('block', 'string'),\n",
       " ('street_name', 'string'),\n",
       " ('storey_range', 'string'),\n",
       " ('floor_area_sqm', 'double'),\n",
       " ('flat_model', 'string'),\n",
       " ('lease_commence_date', 'int'),\n",
       " ('remaining_lease', 'int'),\n",
       " ('resale_price', 'double'),\n",
       " ('avg(floor_area_sqm)', 'double'),\n",
       " ('town_string_encoded', 'double'),\n",
       " ('flat_type_string_encoded', 'double'),\n",
       " ('block_string_encoded', 'double'),\n",
       " ('street_name_string_encoded', 'double'),\n",
       " ('storey_range_string_encoded', 'double'),\n",
       " ('flat_model_string_encoded', 'double'),\n",
       " ('town_one_hot', 'vector'),\n",
       " ('flat_type_one_hot', 'vector'),\n",
       " ('block_one_hot', 'vector'),\n",
       " ('street_name_one_hot', 'vector'),\n",
       " ('storey_range_one_hot', 'vector'),\n",
       " ('flat_model_one_hot', 'vector')]"
      ]
     },
     "execution_count": 28,
     "metadata": {},
     "output_type": "execute_result"
    }
   ],
   "source": [
    "df.dtypes"
   ]
  },
  {
   "cell_type": "code",
   "execution_count": 29,
   "metadata": {},
   "outputs": [],
   "source": [
    "from pyspark.sql import functions as F\n",
    "\n",
    "# Get a list of all the columns in the DataFrame\n",
    "\n",
    "# Set the name of the target variable\n",
    "target = 'resale_price'\n",
    "\n",
    "# Loop through each column\n",
    "for col in num_cols:\n",
    "  # Skip the target variable\n",
    "  if col == target:\n",
    "    continue\n",
    "\n",
    "  # Calculate the median and IQR of the column\n",
    "  quantiles = df.approxQuantile(col, [0.25, 0.75], 0.25)\n",
    "  median = quantiles[1]\n",
    "  iqr = quantiles[1] - quantiles[0]\n",
    "\n",
    "  # Create a new column that is the result of applying robust scaling to the column\n",
    "  df = df.withColumn(\n",
    "      f'scaled_{col}',\n",
    "      (df[col] - median) / iqr\n",
    "  )\n"
   ]
  },
  {
   "cell_type": "code",
   "execution_count": 30,
   "metadata": {},
   "outputs": [
    {
     "data": {
      "text/plain": [
       "[('flat_type', 'string'),\n",
       " ('year', 'int'),\n",
       " ('month', 'int'),\n",
       " ('town', 'string'),\n",
       " ('block', 'string'),\n",
       " ('street_name', 'string'),\n",
       " ('storey_range', 'string'),\n",
       " ('floor_area_sqm', 'double'),\n",
       " ('flat_model', 'string'),\n",
       " ('lease_commence_date', 'int'),\n",
       " ('remaining_lease', 'int'),\n",
       " ('resale_price', 'double'),\n",
       " ('avg(floor_area_sqm)', 'double'),\n",
       " ('town_string_encoded', 'double'),\n",
       " ('flat_type_string_encoded', 'double'),\n",
       " ('block_string_encoded', 'double'),\n",
       " ('street_name_string_encoded', 'double'),\n",
       " ('storey_range_string_encoded', 'double'),\n",
       " ('flat_model_string_encoded', 'double'),\n",
       " ('town_one_hot', 'vector'),\n",
       " ('flat_type_one_hot', 'vector'),\n",
       " ('block_one_hot', 'vector'),\n",
       " ('street_name_one_hot', 'vector'),\n",
       " ('storey_range_one_hot', 'vector'),\n",
       " ('flat_model_one_hot', 'vector'),\n",
       " ('scaled_year', 'double'),\n",
       " ('scaled_month', 'double'),\n",
       " ('scaled_floor_area_sqm', 'double'),\n",
       " ('scaled_lease_commence_date', 'double'),\n",
       " ('scaled_remaining_lease', 'double')]"
      ]
     },
     "execution_count": 30,
     "metadata": {},
     "output_type": "execute_result"
    }
   ],
   "source": [
    "df.dtypes"
   ]
  },
  {
   "cell_type": "code",
   "execution_count": 31,
   "metadata": {},
   "outputs": [],
   "source": [
    "from pyspark.ml.feature import VectorAssembler\n",
    "cols1 = [\"scaled_year\", \"scaled_month\", \"scaled_floor_area_sqm\", \"scaled_lease_commence_date\",\"scaled_remaining_lease\",\"town_one_hot\", \"flat_type_one_hot\", \"block_one_hot\",\n",
    "         \"street_name_one_hot\", \"storey_range_one_hot\", \"flat_model_one_hot\"]\n",
    "featureassembler=VectorAssembler(inputCols=cols1,outputCol=\"Xcols\")"
   ]
  },
  {
   "cell_type": "code",
   "execution_count": 32,
   "metadata": {},
   "outputs": [
    {
     "data": {
      "text/plain": [
       "VectorAssembler_76e553a12520"
      ]
     },
     "execution_count": 32,
     "metadata": {},
     "output_type": "execute_result"
    }
   ],
   "source": [
    "featureassembler"
   ]
  },
  {
   "cell_type": "code",
   "execution_count": 33,
   "metadata": {},
   "outputs": [],
   "source": [
    "output = featureassembler.transform(df)"
   ]
  },
  {
   "cell_type": "code",
   "execution_count": 34,
   "metadata": {},
   "outputs": [
    {
     "name": "stdout",
     "output_type": "stream",
     "text": [
      "+---------+----+-----+----------+-----+-----------------+------------+--------------+--------------+-------------------+---------------+------------+-------------------+-------------------+------------------------+--------------------+--------------------------+---------------------------+-------------------------+--------------+-----------------+------------------+-------------------+--------------------+------------------+-----------+------------+---------------------+--------------------------+----------------------+--------------------+\n",
      "|flat_type|year|month|      town|block|      street_name|storey_range|floor_area_sqm|    flat_model|lease_commence_date|remaining_lease|resale_price|avg(floor_area_sqm)|town_string_encoded|flat_type_string_encoded|block_string_encoded|street_name_string_encoded|storey_range_string_encoded|flat_model_string_encoded|  town_one_hot|flat_type_one_hot|     block_one_hot|street_name_one_hot|storey_range_one_hot|flat_model_one_hot|scaled_year|scaled_month|scaled_floor_area_sqm|scaled_lease_commence_date|scaled_remaining_lease|               Xcols|\n",
      "+---------+----+-----+----------+-----+-----------------+------------+--------------+--------------+-------------------+---------------+------------+-------------------+-------------------+------------------------+--------------------+--------------------------+---------------------------+-------------------------+--------------+-----------------+------------------+-------------------+--------------------+------------------+-----------+------------+---------------------+--------------------------+----------------------+--------------------+\n",
      "|   2 ROOM|2017|    1|ANG MO KIO|  406|ANG MO KIO AVE 10|    10 TO 12|          44.0|      Improved|               1979|            736|    232000.0| 45.869423286180634|                8.0|                     4.0|               104.0|                       4.0|                        2.0|                      1.0|(25,[8],[1.0])|        (4,[],[])|(2386,[104],[1.0])|    (540,[4],[1.0])|      (16,[2],[1.0])|    (17,[1],[1.0])|       -1.0|        -1.0|  -0.9534883720930233|                     -0.74|   -0.6985172981878089|(2993,[0,1,2,3,4,...|\n",
      "|   3 ROOM|2017|    1|ANG MO KIO|  108| ANG MO KIO AVE 4|    01 TO 03|          67.0|New Generation|               1978|            727|    250000.0|  68.29045480787735|                8.0|                     2.0|                22.0|                      20.0|                        3.0|                      2.0|(25,[8],[1.0])|    (4,[2],[1.0])| (2386,[22],[1.0])|   (540,[20],[1.0])|      (16,[3],[1.0])|    (17,[2],[1.0])|       -1.0|        -1.0|  -0.8465116279069768|                     -0.76|     -0.71334431630972|(2993,[0,1,2,3,4,...|\n",
      "|   3 ROOM|2017|    1|ANG MO KIO|  602| ANG MO KIO AVE 5|    01 TO 03|          67.0|New Generation|               1980|            749|    262000.0|  68.29045480787735|                8.0|                     2.0|               132.0|                      31.0|                        3.0|                      2.0|(25,[8],[1.0])|    (4,[2],[1.0])|(2386,[132],[1.0])|   (540,[31],[1.0])|      (16,[3],[1.0])|    (17,[2],[1.0])|       -1.0|        -1.0|  -0.8465116279069768|                     -0.72|   -0.6771004942339374|(2993,[0,1,2,3,4,...|\n",
      "|   3 ROOM|2017|    1|ANG MO KIO|  465|ANG MO KIO AVE 10|    04 TO 06|          68.0|New Generation|               1980|            745|    265000.0|  68.29045480787735|                8.0|                     2.0|               398.0|                       4.0|                        0.0|                      2.0|(25,[8],[1.0])|    (4,[2],[1.0])|(2386,[398],[1.0])|    (540,[4],[1.0])|      (16,[0],[1.0])|    (17,[2],[1.0])|       -1.0|        -1.0|  -0.8418604651162791|                     -0.72|   -0.6836902800658978|(2993,[0,1,2,3,4,...|\n",
      "|   3 ROOM|2017|    1|ANG MO KIO|  601| ANG MO KIO AVE 5|    01 TO 03|          67.0|New Generation|               1980|            749|    265000.0|  68.29045480787735|                8.0|                     2.0|               300.0|                      31.0|                        3.0|                      2.0|(25,[8],[1.0])|    (4,[2],[1.0])|(2386,[300],[1.0])|   (540,[31],[1.0])|      (16,[3],[1.0])|    (17,[2],[1.0])|       -1.0|        -1.0|  -0.8465116279069768|                     -0.72|   -0.6771004942339374|(2993,[0,1,2,3,4,...|\n",
      "|   3 ROOM|2017|    1|ANG MO KIO|  150| ANG MO KIO AVE 5|    01 TO 03|          68.0|New Generation|               1981|            756|    275000.0|  68.29045480787735|                8.0|                     2.0|               186.0|                      31.0|                        3.0|                      2.0|(25,[8],[1.0])|    (4,[2],[1.0])|(2386,[186],[1.0])|   (540,[31],[1.0])|      (16,[3],[1.0])|    (17,[2],[1.0])|       -1.0|        -1.0|  -0.8418604651162791|                      -0.7|   -0.6655683690280065|(2993,[0,1,2,3,4,...|\n",
      "|   3 ROOM|2017|    1|ANG MO KIO|  447|ANG MO KIO AVE 10|    04 TO 06|          68.0|New Generation|               1979|            738|    280000.0|  68.29045480787735|                8.0|                     2.0|               549.0|                       4.0|                        0.0|                      2.0|(25,[8],[1.0])|    (4,[2],[1.0])|(2386,[549],[1.0])|    (540,[4],[1.0])|      (16,[0],[1.0])|    (17,[2],[1.0])|       -1.0|        -1.0|  -0.8418604651162791|                     -0.74|   -0.6952224052718287|(2993,[0,1,2,3,4,...|\n",
      "|   3 ROOM|2017|    1|ANG MO KIO|  218| ANG MO KIO AVE 1|    04 TO 06|          67.0|New Generation|               1976|            700|    285000.0|  68.29045480787735|                8.0|                     2.0|               171.0|                      30.0|                        0.0|                      2.0|(25,[8],[1.0])|    (4,[2],[1.0])|(2386,[171],[1.0])|   (540,[30],[1.0])|      (16,[0],[1.0])|    (17,[2],[1.0])|       -1.0|        -1.0|  -0.8465116279069768|                      -0.8|   -0.7578253706754531|(2993,[0,1,2,3,4,...|\n",
      "|   3 ROOM|2017|    1|ANG MO KIO|  447|ANG MO KIO AVE 10|    04 TO 06|          68.0|New Generation|               1979|            738|    285000.0|  68.29045480787735|                8.0|                     2.0|               549.0|                       4.0|                        0.0|                      2.0|(25,[8],[1.0])|    (4,[2],[1.0])|(2386,[549],[1.0])|    (540,[4],[1.0])|      (16,[0],[1.0])|    (17,[2],[1.0])|       -1.0|        -1.0|  -0.8418604651162791|                     -0.74|   -0.6952224052718287|(2993,[0,1,2,3,4,...|\n",
      "|   3 ROOM|2017|    1|ANG MO KIO|  571| ANG MO KIO AVE 3|    01 TO 03|          67.0|New Generation|               1979|            736|    285000.0|  68.29045480787735|                8.0|                     2.0|               575.0|                       7.0|                        3.0|                      2.0|(25,[8],[1.0])|    (4,[2],[1.0])|(2386,[575],[1.0])|    (540,[7],[1.0])|      (16,[3],[1.0])|    (17,[2],[1.0])|       -1.0|        -1.0|  -0.8465116279069768|                     -0.74|   -0.6985172981878089|(2993,[0,1,2,3,4,...|\n",
      "|   3 ROOM|2017|    1|ANG MO KIO|  534|ANG MO KIO AVE 10|    01 TO 03|          68.0|New Generation|               1980|            745|    288500.0|  68.29045480787735|                8.0|                     2.0|               168.0|                       4.0|                        3.0|                      2.0|(25,[8],[1.0])|    (4,[2],[1.0])|(2386,[168],[1.0])|    (540,[4],[1.0])|      (16,[3],[1.0])|    (17,[2],[1.0])|       -1.0|        -1.0|  -0.8418604651162791|                     -0.72|   -0.6836902800658978|(2993,[0,1,2,3,4,...|\n",
      "|   3 ROOM|2017|    1|ANG MO KIO|  233| ANG MO KIO AVE 3|    10 TO 12|          67.0|New Generation|               1977|            716|    295000.0|  68.29045480787735|                8.0|                     2.0|               145.0|                       7.0|                        2.0|                      2.0|(25,[8],[1.0])|    (4,[2],[1.0])|(2386,[145],[1.0])|    (540,[7],[1.0])|      (16,[2],[1.0])|    (17,[2],[1.0])|       -1.0|        -1.0|  -0.8465116279069768|                     -0.78|   -0.7314662273476112|(2993,[0,1,2,3,4,...|\n",
      "|   3 ROOM|2017|    1|ANG MO KIO|  235| ANG MO KIO AVE 3|    04 TO 06|          67.0|New Generation|               1977|            716|    295000.0|  68.29045480787735|                8.0|                     2.0|               166.0|                       7.0|                        0.0|                      2.0|(25,[8],[1.0])|    (4,[2],[1.0])|(2386,[166],[1.0])|    (540,[7],[1.0])|      (16,[0],[1.0])|    (17,[2],[1.0])|       -1.0|        -1.0|  -0.8465116279069768|                     -0.78|   -0.7314662273476112|(2993,[0,1,2,3,4,...|\n",
      "|   3 ROOM|2017|    1|ANG MO KIO|  219| ANG MO KIO AVE 1|    07 TO 09|          67.0|New Generation|               1977|            714|    297000.0|  68.29045480787735|                8.0|                     2.0|               101.0|                      30.0|                        1.0|                      2.0|(25,[8],[1.0])|    (4,[2],[1.0])|(2386,[101],[1.0])|   (540,[30],[1.0])|      (16,[1],[1.0])|    (17,[2],[1.0])|       -1.0|        -1.0|  -0.8465116279069768|                     -0.78|   -0.7347611202635914|(2993,[0,1,2,3,4,...|\n",
      "|   3 ROOM|2017|    1|ANG MO KIO|  536|ANG MO KIO AVE 10|    07 TO 09|          68.0|New Generation|               1980|            745|    298000.0|  68.29045480787735|                8.0|                     2.0|               138.0|                       4.0|                        1.0|                      2.0|(25,[8],[1.0])|    (4,[2],[1.0])|(2386,[138],[1.0])|    (540,[4],[1.0])|      (16,[1],[1.0])|    (17,[2],[1.0])|       -1.0|        -1.0|  -0.8418604651162791|                     -0.72|   -0.6836902800658978|(2993,[0,1,2,3,4,...|\n",
      "|   3 ROOM|2017|    1|ANG MO KIO|  230| ANG MO KIO AVE 3|    04 TO 06|          67.0|New Generation|               1978|            720|    298000.0|  68.29045480787735|                8.0|                     2.0|               109.0|                       7.0|                        0.0|                      2.0|(25,[8],[1.0])|    (4,[2],[1.0])|(2386,[109],[1.0])|    (540,[7],[1.0])|      (16,[0],[1.0])|    (17,[2],[1.0])|       -1.0|        -1.0|  -0.8465116279069768|                     -0.76|   -0.7248764415156508|(2993,[0,1,2,3,4,...|\n",
      "|   3 ROOM|2017|    1|ANG MO KIO|  570| ANG MO KIO AVE 3|    10 TO 12|          67.0|New Generation|               1979|            736|    300000.0|  68.29045480787735|                8.0|                     2.0|               497.0|                       7.0|                        2.0|                      2.0|(25,[8],[1.0])|    (4,[2],[1.0])|(2386,[497],[1.0])|    (540,[7],[1.0])|      (16,[2],[1.0])|    (17,[2],[1.0])|       -1.0|        -1.0|  -0.8465116279069768|                     -0.74|   -0.6985172981878089|(2993,[0,1,2,3,4,...|\n",
      "|   3 ROOM|2017|    1|ANG MO KIO|  624| ANG MO KIO AVE 4|    04 TO 06|          68.0|New Generation|               1980|            752|    301000.0|  68.29045480787735|                8.0|                     2.0|               424.0|                      20.0|                        0.0|                      2.0|(25,[8],[1.0])|    (4,[2],[1.0])|(2386,[424],[1.0])|   (540,[20],[1.0])|      (16,[0],[1.0])|    (17,[2],[1.0])|       -1.0|        -1.0|  -0.8418604651162791|                     -0.72|   -0.6721581548599671|(2993,[0,1,2,3,4,...|\n",
      "|   3 ROOM|2017|    1|ANG MO KIO|  441|ANG MO KIO AVE 10|    07 TO 09|          67.0|New Generation|               1979|            732|    306000.0|  68.29045480787735|                8.0|                     2.0|               690.0|                       4.0|                        1.0|                      2.0|(25,[8],[1.0])|    (4,[2],[1.0])|(2386,[690],[1.0])|    (540,[4],[1.0])|      (16,[1],[1.0])|    (17,[2],[1.0])|       -1.0|        -1.0|  -0.8465116279069768|                     -0.74|   -0.7051070840197694|(2993,[0,1,2,3,4,...|\n",
      "|   3 ROOM|2017|    1|ANG MO KIO|  625| ANG MO KIO AVE 9|    04 TO 06|          68.0|New Generation|               1980|            752|    312000.0|  68.29045480787735|                8.0|                     2.0|               244.0|                     418.0|                        0.0|                      2.0|(25,[8],[1.0])|    (4,[2],[1.0])|(2386,[244],[1.0])|  (540,[418],[1.0])|      (16,[0],[1.0])|    (17,[2],[1.0])|       -1.0|        -1.0|  -0.8418604651162791|                     -0.72|   -0.6721581548599671|(2993,[0,1,2,3,4,...|\n",
      "+---------+----+-----+----------+-----+-----------------+------------+--------------+--------------+-------------------+---------------+------------+-------------------+-------------------+------------------------+--------------------+--------------------------+---------------------------+-------------------------+--------------+-----------------+------------------+-------------------+--------------------+------------------+-----------+------------+---------------------+--------------------------+----------------------+--------------------+\n",
      "only showing top 20 rows\n",
      "\n"
     ]
    }
   ],
   "source": [
    "output.show()"
   ]
  },
  {
   "cell_type": "code",
   "execution_count": 35,
   "metadata": {},
   "outputs": [],
   "source": [
    "final_data = output.select(\"Xcols\", \"resale_price\")"
   ]
  },
  {
   "cell_type": "code",
   "execution_count": 36,
   "metadata": {},
   "outputs": [
    {
     "name": "stdout",
     "output_type": "stream",
     "text": [
      "+-----------------------------------------------------------------------------------------------------------------------------+------------+\n",
      "|Xcols                                                                                                                        |resale_price|\n",
      "+-----------------------------------------------------------------------------------------------------------------------------+------------+\n",
      "|(2993,[0,1,2,3,4,13,138,2424,2962,2977],[-1.0,-1.0,-0.9534883720930233,-0.74,-0.6985172981878089,1.0,1.0,1.0,1.0,1.0])       |232000.0    |\n",
      "|(2993,[0,1,2,3,4,13,32,56,2440,2963,2978],[-1.0,-1.0,-0.8465116279069768,-0.76,-0.71334431630972,1.0,1.0,1.0,1.0,1.0,1.0])   |250000.0    |\n",
      "|(2993,[0,1,2,3,4,13,32,166,2451,2963,2978],[-1.0,-1.0,-0.8465116279069768,-0.72,-0.6771004942339374,1.0,1.0,1.0,1.0,1.0,1.0])|262000.0    |\n",
      "|(2993,[0,1,2,3,4,13,32,432,2424,2960,2978],[-1.0,-1.0,-0.8418604651162791,-0.72,-0.6836902800658978,1.0,1.0,1.0,1.0,1.0,1.0])|265000.0    |\n",
      "|(2993,[0,1,2,3,4,13,32,334,2451,2963,2978],[-1.0,-1.0,-0.8465116279069768,-0.72,-0.6771004942339374,1.0,1.0,1.0,1.0,1.0,1.0])|265000.0    |\n",
      "|(2993,[0,1,2,3,4,13,32,220,2451,2963,2978],[-1.0,-1.0,-0.8418604651162791,-0.7,-0.6655683690280065,1.0,1.0,1.0,1.0,1.0,1.0]) |275000.0    |\n",
      "|(2993,[0,1,2,3,4,13,32,583,2424,2960,2978],[-1.0,-1.0,-0.8418604651162791,-0.74,-0.6952224052718287,1.0,1.0,1.0,1.0,1.0,1.0])|280000.0    |\n",
      "|(2993,[0,1,2,3,4,13,32,205,2450,2960,2978],[-1.0,-1.0,-0.8465116279069768,-0.8,-0.7578253706754531,1.0,1.0,1.0,1.0,1.0,1.0]) |285000.0    |\n",
      "|(2993,[0,1,2,3,4,13,32,583,2424,2960,2978],[-1.0,-1.0,-0.8418604651162791,-0.74,-0.6952224052718287,1.0,1.0,1.0,1.0,1.0,1.0])|285000.0    |\n",
      "|(2993,[0,1,2,3,4,13,32,609,2427,2963,2978],[-1.0,-1.0,-0.8465116279069768,-0.74,-0.6985172981878089,1.0,1.0,1.0,1.0,1.0,1.0])|285000.0    |\n",
      "|(2993,[0,1,2,3,4,13,32,202,2424,2963,2978],[-1.0,-1.0,-0.8418604651162791,-0.72,-0.6836902800658978,1.0,1.0,1.0,1.0,1.0,1.0])|288500.0    |\n",
      "|(2993,[0,1,2,3,4,13,32,179,2427,2962,2978],[-1.0,-1.0,-0.8465116279069768,-0.78,-0.7314662273476112,1.0,1.0,1.0,1.0,1.0,1.0])|295000.0    |\n",
      "|(2993,[0,1,2,3,4,13,32,200,2427,2960,2978],[-1.0,-1.0,-0.8465116279069768,-0.78,-0.7314662273476112,1.0,1.0,1.0,1.0,1.0,1.0])|295000.0    |\n",
      "|(2993,[0,1,2,3,4,13,32,135,2450,2961,2978],[-1.0,-1.0,-0.8465116279069768,-0.78,-0.7347611202635914,1.0,1.0,1.0,1.0,1.0,1.0])|297000.0    |\n",
      "|(2993,[0,1,2,3,4,13,32,172,2424,2961,2978],[-1.0,-1.0,-0.8418604651162791,-0.72,-0.6836902800658978,1.0,1.0,1.0,1.0,1.0,1.0])|298000.0    |\n",
      "|(2993,[0,1,2,3,4,13,32,143,2427,2960,2978],[-1.0,-1.0,-0.8465116279069768,-0.76,-0.7248764415156508,1.0,1.0,1.0,1.0,1.0,1.0])|298000.0    |\n",
      "|(2993,[0,1,2,3,4,13,32,531,2427,2962,2978],[-1.0,-1.0,-0.8465116279069768,-0.74,-0.6985172981878089,1.0,1.0,1.0,1.0,1.0,1.0])|300000.0    |\n",
      "|(2993,[0,1,2,3,4,13,32,458,2440,2960,2978],[-1.0,-1.0,-0.8418604651162791,-0.72,-0.6721581548599671,1.0,1.0,1.0,1.0,1.0,1.0])|301000.0    |\n",
      "|(2993,[0,1,2,3,4,13,32,724,2424,2961,2978],[-1.0,-1.0,-0.8465116279069768,-0.74,-0.7051070840197694,1.0,1.0,1.0,1.0,1.0,1.0])|306000.0    |\n",
      "|(2993,[0,1,2,3,4,13,32,278,2838,2960,2978],[-1.0,-1.0,-0.8418604651162791,-0.72,-0.6721581548599671,1.0,1.0,1.0,1.0,1.0,1.0])|312000.0    |\n",
      "+-----------------------------------------------------------------------------------------------------------------------------+------------+\n",
      "only showing top 20 rows\n",
      "\n"
     ]
    }
   ],
   "source": [
    "final_data.show(truncate = False)"
   ]
  },
  {
   "cell_type": "code",
   "execution_count": 37,
   "metadata": {},
   "outputs": [],
   "source": [
    "# from pyspark.ml.feature import StandardScaler\n",
    "\n",
    "# sScaler = StandardScaler(withMean=True, withStd=True, inputCol=\"Xcols\", outputCol=\"Xcols_sscaled\")"
   ]
  },
  {
   "cell_type": "code",
   "execution_count": 38,
   "metadata": {},
   "outputs": [],
   "source": [
    "# final_data = sScaler.fit(final_data).transform(final_data)"
   ]
  },
  {
   "cell_type": "code",
   "execution_count": 39,
   "metadata": {},
   "outputs": [],
   "source": [
    "# final_data = final_data.select(\"Xcols_sscaled\",\"resale_price\")\n",
    "# final_data.show(2, truncate = False)"
   ]
  },
  {
   "cell_type": "markdown",
   "metadata": {},
   "source": [
    "### Step 4: Machine Learning Modelling"
   ]
  },
  {
   "cell_type": "code",
   "execution_count": 40,
   "metadata": {},
   "outputs": [
    {
     "name": "stdout",
     "output_type": "stream",
     "text": [
      "The shape of the DataFrame is 64185 x 2\n"
     ]
    }
   ],
   "source": [
    "# Get the number of rows\n",
    "num_rows = final_data.count()\n",
    "\n",
    "# Get the number of columns\n",
    "num_columns = len(final_data.columns)\n",
    "\n",
    "# Print the shape of the DataFrame\n",
    "print(f\"The shape of the DataFrame is {num_rows} x {num_columns}\")\n"
   ]
  },
  {
   "cell_type": "code",
   "execution_count": 41,
   "metadata": {},
   "outputs": [
    {
     "name": "stdout",
     "output_type": "stream",
     "text": [
      "+-----------------------------------------------------------------------------------------------------------------------------+------------+\n",
      "|Xcols                                                                                                                        |resale_price|\n",
      "+-----------------------------------------------------------------------------------------------------------------------------+------------+\n",
      "|(2993,[0,1,2,3,4,13,138,2424,2962,2977],[-1.0,-1.0,-0.9534883720930233,-0.74,-0.6985172981878089,1.0,1.0,1.0,1.0,1.0])       |232000.0    |\n",
      "|(2993,[0,1,2,3,4,13,32,56,2440,2963,2978],[-1.0,-1.0,-0.8465116279069768,-0.76,-0.71334431630972,1.0,1.0,1.0,1.0,1.0,1.0])   |250000.0    |\n",
      "|(2993,[0,1,2,3,4,13,32,166,2451,2963,2978],[-1.0,-1.0,-0.8465116279069768,-0.72,-0.6771004942339374,1.0,1.0,1.0,1.0,1.0,1.0])|262000.0    |\n",
      "|(2993,[0,1,2,3,4,13,32,432,2424,2960,2978],[-1.0,-1.0,-0.8418604651162791,-0.72,-0.6836902800658978,1.0,1.0,1.0,1.0,1.0,1.0])|265000.0    |\n",
      "|(2993,[0,1,2,3,4,13,32,334,2451,2963,2978],[-1.0,-1.0,-0.8465116279069768,-0.72,-0.6771004942339374,1.0,1.0,1.0,1.0,1.0,1.0])|265000.0    |\n",
      "|(2993,[0,1,2,3,4,13,32,220,2451,2963,2978],[-1.0,-1.0,-0.8418604651162791,-0.7,-0.6655683690280065,1.0,1.0,1.0,1.0,1.0,1.0]) |275000.0    |\n",
      "|(2993,[0,1,2,3,4,13,32,583,2424,2960,2978],[-1.0,-1.0,-0.8418604651162791,-0.74,-0.6952224052718287,1.0,1.0,1.0,1.0,1.0,1.0])|280000.0    |\n",
      "|(2993,[0,1,2,3,4,13,32,205,2450,2960,2978],[-1.0,-1.0,-0.8465116279069768,-0.8,-0.7578253706754531,1.0,1.0,1.0,1.0,1.0,1.0]) |285000.0    |\n",
      "|(2993,[0,1,2,3,4,13,32,583,2424,2960,2978],[-1.0,-1.0,-0.8418604651162791,-0.74,-0.6952224052718287,1.0,1.0,1.0,1.0,1.0,1.0])|285000.0    |\n",
      "|(2993,[0,1,2,3,4,13,32,609,2427,2963,2978],[-1.0,-1.0,-0.8465116279069768,-0.74,-0.6985172981878089,1.0,1.0,1.0,1.0,1.0,1.0])|285000.0    |\n",
      "+-----------------------------------------------------------------------------------------------------------------------------+------------+\n",
      "only showing top 10 rows\n",
      "\n"
     ]
    }
   ],
   "source": [
    "final_data.show(10, truncate = False)"
   ]
  },
  {
   "cell_type": "code",
   "execution_count": 42,
   "metadata": {},
   "outputs": [],
   "source": [
    "\n",
    "# Import the LinearRegression class\n",
    "from pyspark.ml.regression import LinearRegression\n",
    "\n",
    "\n",
    "# Split the data into training and test sets\n",
    "train_data, test_data = final_data.randomSplit([0.8, 0.2])\n",
    "\n",
    "# Create a LinearRegression instance\n",
    "lr = LinearRegression(featuresCol='Xcols', labelCol='resale_price')\n",
    "\n",
    "# Fit the model on the training data\n",
    "lr_model = lr.fit(train_data)\n",
    "\n",
    "# Evaluate the model on the test data\n",
    "test_results = lr_model.evaluate(test_data)\n",
    "train_results = lr_model.evaluate(train_data)"
   ]
  },
  {
   "cell_type": "code",
   "execution_count": 43,
   "metadata": {},
   "outputs": [],
   "source": [
    "# use code to show number of rows and columns,\n",
    "# as well as a sample of 10 rows before heading into Machine Learning Modelling"
   ]
  },
  {
   "cell_type": "markdown",
   "metadata": {},
   "source": [
    "### Step 5: Model Evaluation and Selection"
   ]
  },
  {
   "cell_type": "code",
   "execution_count": 44,
   "metadata": {},
   "outputs": [
    {
     "name": "stdout",
     "output_type": "stream",
     "text": [
      "+--------------------+------------+------------------+\n",
      "|               Xcols|resale_price|        prediction|\n",
      "+--------------------+------------+------------------+\n",
      "|(2993,[0,1,2,3,4,...|    281888.0|261808.03814540792|\n",
      "|(2993,[0,1,2,3,4,...|    280000.0|283707.27704078064|\n",
      "|(2993,[0,1,2,3,4,...|    375000.0| 345913.2488107191|\n",
      "|(2993,[0,1,2,3,4,...|    328000.0|336740.91460026405|\n",
      "|(2993,[0,1,2,3,4,...|    330000.0| 313709.6301737266|\n",
      "|(2993,[0,1,2,3,4,...|    312000.0| 306988.7127639124|\n",
      "|(2993,[0,1,2,3,4,...|    345000.0|336639.15919652465|\n",
      "|(2993,[0,1,2,3,4,...|    335000.0| 336281.2354278392|\n",
      "|(2993,[0,1,2,3,4,...|    298000.0|328128.62294328306|\n",
      "|(2993,[0,1,2,3,4,...|    348000.0|349928.00438458833|\n",
      "|(2993,[0,1,2,3,4,...|    330000.0| 348467.8443447413|\n",
      "|(2993,[0,1,2,3,4,...|    345000.0| 361651.6128497516|\n",
      "|(2993,[0,1,2,3,4,...|    282000.0| 333375.1408080085|\n",
      "|(2993,[0,1,2,3,4,...|    350000.0| 356141.3395403697|\n",
      "|(2993,[0,1,2,3,4,...|    328000.0|350243.22368292697|\n",
      "|(2993,[0,1,2,3,4,...|    345000.0|364142.83972530835|\n",
      "|(2993,[0,1,2,3,4,...|    330000.0| 354451.5781510096|\n",
      "|(2993,[0,1,2,3,4,...|    327000.0|323990.62533822015|\n",
      "|(2993,[0,1,2,3,4,...|    330000.0|371629.27437116124|\n",
      "|(2993,[0,1,2,3,4,...|    295000.0| 315534.5999848767|\n",
      "+--------------------+------------+------------------+\n",
      "only showing top 20 rows\n",
      "\n"
     ]
    }
   ],
   "source": [
    "train_results.predictions.show()"
   ]
  },
  {
   "cell_type": "code",
   "execution_count": 45,
   "metadata": {
    "scrolled": true
   },
   "outputs": [
    {
     "name": "stdout",
     "output_type": "stream",
     "text": [
      "+--------------------+------------+------------------+\n",
      "|               Xcols|resale_price|        prediction|\n",
      "+--------------------+------------+------------------+\n",
      "|(2993,[0,1,2,3,4,...|    230000.0|255087.12073559372|\n",
      "|(2993,[0,1,2,3,4,...|    350000.0| 356390.8554797844|\n",
      "|(2993,[0,1,2,3,4,...|    343500.0| 366436.3543712138|\n",
      "|(2993,[0,1,2,3,4,...|    348000.0| 372770.8830472375|\n",
      "|(2993,[0,1,2,3,4,...|    275000.0|305088.47285441484|\n",
      "|(2993,[0,1,2,3,4,...|    235000.0|261039.40396909765|\n",
      "|(2993,[0,1,2,3,4,...|    275000.0| 296761.4931424358|\n",
      "|(2993,[0,1,2,3,4,...|    318000.0|331558.04085681215|\n",
      "|(2993,[0,1,2,3,4,...|    310000.0| 328801.6047223287|\n",
      "|(2993,[0,1,2,3,4,...|    340000.0| 343816.0519340498|\n",
      "|(2993,[0,1,2,3,4,...|    315000.0|322298.84090055537|\n",
      "|(2993,[0,1,2,3,4,...|    253000.0| 305336.5434307745|\n",
      "|(2993,[0,1,2,3,4,...|    275000.0|    289667.9497155|\n",
      "|(2993,[0,1,2,3,4,...|    340000.0|315294.32333801757|\n",
      "|(2993,[0,1,2,3,4,...|    270000.0| 312432.1850326834|\n",
      "|(2993,[0,1,2,3,4,...|    320000.0|376541.46349859436|\n",
      "|(2993,[0,1,2,3,4,...|    270000.0| 289262.6180608979|\n",
      "|(2993,[0,1,2,3,4,...|    368000.0| 364748.3345559954|\n",
      "|(2993,[0,1,2,3,4,...|    303000.0|323721.07519533194|\n",
      "|(2993,[0,1,2,3,4,...|    323000.0|261560.94650546496|\n",
      "+--------------------+------------+------------------+\n",
      "only showing top 20 rows\n",
      "\n"
     ]
    }
   ],
   "source": [
    "test_results.predictions.show()"
   ]
  },
  {
   "cell_type": "code",
   "execution_count": 46,
   "metadata": {},
   "outputs": [
    {
     "name": "stdout",
     "output_type": "stream",
     "text": [
      "MSE: 1222362799.220270\n",
      "MAE: 25819.072648\n",
      "R2: 0.947616\n"
     ]
    }
   ],
   "source": [
    "# Print the MSE, MAE, and R2 values\n",
    "print(\"MSE: %f\" % train_results.meanSquaredError)\n",
    "print(\"MAE: %f\" % train_results.meanAbsoluteError)\n",
    "print(\"R2: %f\" % train_results.r2)"
   ]
  },
  {
   "cell_type": "code",
   "execution_count": 47,
   "metadata": {},
   "outputs": [
    {
     "name": "stdout",
     "output_type": "stream",
     "text": [
      "MSE: 1380246561.859578\n",
      "MAE: 27601.393176\n",
      "R2: 0.943570\n"
     ]
    }
   ],
   "source": [
    "# Print the MSE, MAE, and R2 values\n",
    "print(\"MSE: %f\" % test_results.meanSquaredError)\n",
    "print(\"MAE: %f\" % test_results.meanAbsoluteError)\n",
    "print(\"R2: %f\" % test_results.r2)"
   ]
  },
  {
   "cell_type": "code",
   "execution_count": 48,
   "metadata": {},
   "outputs": [
    {
     "name": "stdout",
     "output_type": "stream",
     "text": [
      "+--------------------+------------+\n",
      "|               Xcols|resale_price|\n",
      "+--------------------+------------+\n",
      "|(2993,[0,1,2,3,4,...|    230000.0|\n",
      "|(2993,[0,1,2,3,4,...|    350000.0|\n",
      "+--------------------+------------+\n",
      "\n"
     ]
    }
   ],
   "source": [
    "pyspark_two_rows = test_data.limit(2)\n",
    "pyspark_two_rows.show()"
   ]
  },
  {
   "cell_type": "code",
   "execution_count": 49,
   "metadata": {},
   "outputs": [
    {
     "name": "stdout",
     "output_type": "stream",
     "text": [
      "+--------------------+------------+------------------+\n",
      "|               Xcols|resale_price|        prediction|\n",
      "+--------------------+------------+------------------+\n",
      "|(2993,[0,1,2,3,4,...|    230000.0|255087.12073559372|\n",
      "|(2993,[0,1,2,3,4,...|    350000.0| 356390.8554797844|\n",
      "+--------------------+------------+------------------+\n",
      "\n"
     ]
    }
   ],
   "source": [
    "lr_model.evaluate(pyspark_two_rows).predictions.show()"
   ]
  },
  {
   "cell_type": "code",
   "execution_count": null,
   "metadata": {},
   "outputs": [],
   "source": [
    "\n"
   ]
  },
  {
   "cell_type": "markdown",
   "metadata": {},
   "source": [
    "### Step 6: Report"
   ]
  },
  {
   "cell_type": "markdown",
   "metadata": {},
   "source": []
  },
  {
   "cell_type": "markdown",
   "metadata": {},
   "source": [
    "## Table of Contents\n",
    "- [Problem Statement Formulation](#part1)\n",
    "    - [Load and Explore the Data](#part2)\n",
    "    - [Understand the Data](#part3)\n",
    "    - [Formulate a Value Based Problem Statement](#part4)\n",
    "    \n",
    "    \n",
    "- [Exploratory Data Analysis and Data Cleansing](#part5)\n",
    "    - [Interesting Trends](#part6)\n",
    "    - [Anomalies](#part7)\n",
    "    - [Potential Errors](#part8)\n",
    "    - [Missing Value Treatment](#part9)\n",
    "    \n",
    "    \n",
    "- [Data Wrangling and Transformation](#part10)\n",
    "    - [Categorical Data](#part11)\n",
    "    - [Numerical Data](#part12)\n",
    "    - [Others](#part13)\n",
    "    \n",
    "    \n",
    "- [Machine Learning Modelling](#part14)\n",
    "    - [Show Count of Rows and Columns](#part15)\n",
    "    - [Sample of 10 Rows before Modelling](#part16)\n",
    "    - [Build the Predictive Model](#part17)\n",
    "    \n",
    "    \n",
    "- [Model Evaluation and Selection ](#part18)\n",
    "    - [Utilize Model Metrics for Evaluation](#part19)\n",
    "    - [Compare Models and Decide on Final Model](#part20)\n",
    "    \n",
    "    \n",
    "- [Summary and Further Improvements](#part21)\n",
    "    - [Summarize your findings](#part22)\n",
    "    - [Explain the possible further improvements ](#part23)"
   ]
  },
  {
   "cell_type": "markdown",
   "metadata": {},
   "source": [
    "## <a id='part1'>Problem Statement Formulation</a>\n",
    "the goal of this assignment is to conduct data preprocessing for the purpose of Building a simple linear regression machine learning model to predict the resale prices of any given HDB resale transaction."
   ]
  },
  {
   "cell_type": "markdown",
   "metadata": {},
   "source": [
    "### <a id='part2'>Load and Explore the Data</a>"
   ]
  },
  {
   "cell_type": "markdown",
   "metadata": {},
   "source": []
  },
  {
   "cell_type": "code",
   "execution_count": null,
   "metadata": {},
   "outputs": [],
   "source": []
  },
  {
   "cell_type": "code",
   "execution_count": null,
   "metadata": {},
   "outputs": [],
   "source": []
  },
  {
   "cell_type": "code",
   "execution_count": null,
   "metadata": {},
   "outputs": [],
   "source": []
  },
  {
   "cell_type": "code",
   "execution_count": null,
   "metadata": {},
   "outputs": [],
   "source": []
  },
  {
   "cell_type": "code",
   "execution_count": null,
   "metadata": {},
   "outputs": [],
   "source": []
  },
  {
   "cell_type": "code",
   "execution_count": 50,
   "metadata": {},
   "outputs": [
    {
     "ename": "SyntaxError",
     "evalue": "invalid syntax (3660373953.py, line 1)",
     "output_type": "error",
     "traceback": [
      "\u001b[1;36m  File \u001b[1;32m\"C:\\Users\\kent_\\AppData\\Local\\Temp\\ipykernel_13372\\3660373953.py\"\u001b[1;36m, line \u001b[1;32m1\u001b[0m\n\u001b[1;33m    - <a id='part3'>part3</a>\u001b[0m\n\u001b[1;37m      ^\u001b[0m\n\u001b[1;31mSyntaxError\u001b[0m\u001b[1;31m:\u001b[0m invalid syntax\n"
     ]
    }
   ],
   "source": [
    "\n",
    "- <a id='part3'>part3</a>\n",
    "- <a id='part4'>part4</a>\n",
    "- <a id='part5'>part5</a>\n",
    "- <a id='part6'>part6</a>\n",
    "- <a id='part7'>part7</a>"
   ]
  },
  {
   "cell_type": "code",
   "execution_count": null,
   "metadata": {},
   "outputs": [],
   "source": []
  },
  {
   "cell_type": "code",
   "execution_count": null,
   "metadata": {},
   "outputs": [],
   "source": []
  },
  {
   "cell_type": "code",
   "execution_count": null,
   "metadata": {},
   "outputs": [],
   "source": []
  },
  {
   "cell_type": "code",
   "execution_count": null,
   "metadata": {},
   "outputs": [],
   "source": []
  },
  {
   "cell_type": "code",
   "execution_count": null,
   "metadata": {},
   "outputs": [],
   "source": []
  },
  {
   "cell_type": "code",
   "execution_count": null,
   "metadata": {},
   "outputs": [],
   "source": []
  },
  {
   "cell_type": "markdown",
   "metadata": {},
   "source": [
    "### \"Unlisted\" Youtube Link to Video Presentation"
   ]
  },
  {
   "cell_type": "code",
   "execution_count": null,
   "metadata": {},
   "outputs": [],
   "source": [
    "# insert your link in this cell, you are allowed to comment it out\n",
    "# youtube link: "
   ]
  }
 ],
 "metadata": {
  "kernelspec": {
   "display_name": "Python 3 (ipykernel)",
   "language": "python",
   "name": "python3"
  },
  "language_info": {
   "codemirror_mode": {
    "name": "ipython",
    "version": 3
   },
   "file_extension": ".py",
   "mimetype": "text/x-python",
   "name": "python",
   "nbconvert_exporter": "python",
   "pygments_lexer": "ipython3",
   "version": "3.9.13"
  }
 },
 "nbformat": 4,
 "nbformat_minor": 4
}
